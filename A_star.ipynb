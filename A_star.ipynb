{
 "cells": [
  {
   "cell_type": "markdown",
   "metadata": {},
   "source": [
    "# A-Star Path Planning"
   ]
  },
  {
   "cell_type": "markdown",
   "metadata": {},
   "source": [
    "> In this notebook, I used the A* algorithm to tackle the classical path planning problem."
   ]
  },
  {
   "cell_type": "markdown",
   "metadata": {},
   "source": [
    "## (OPTIONAL) Read in map with CV libraries"
   ]
  },
  {
   "cell_type": "markdown",
   "metadata": {},
   "source": [
    "> To showcase my knowledge about the cv libraries, I implemented the reading of 5x5 grid in code. Input: Screenshot of the figures. Output: desired grid in numpy. </br>\n",
    "> Please skip this part if you find this not relevant!"
   ]
  },
  {
   "cell_type": "markdown",
   "metadata": {},
   "source": [
    "## Basic Path Planning Implementation"
   ]
  },
  {
   "cell_type": "markdown",
   "metadata": {},
   "source": [
    "#### Task 1 & 2: Create a 5x5 grid with the obstacles, mark start and end points"
   ]
  },
  {
   "cell_type": "code",
   "execution_count": 7,
   "metadata": {},
   "outputs": [
    {
     "name": "stdout",
     "output_type": "stream",
     "text": [
      "\n",
      "Grid with Start (S) and Finish (F) points:\n",
      "[[0. 0. 0. 0. 3.]\n",
      " [0. 0. 1. 0. 0.]\n",
      " [0. 0. 0. 1. 0.]\n",
      " [0. 1. 0. 0. 1.]\n",
      " [2. 0. 0. 0. 0.]]\n"
     ]
    }
   ],
   "source": [
    "import numpy as np\n",
    "import matplotlib.pyplot as plt\n",
    "\n",
    "# Visiualize the grid with simple numpy array\n",
    "grid = np.zeros((5, 5))\n",
    "\n",
    "# Add obstacles to the grid\n",
    "obstacles = [(1, 2), (2, 3), (3, 1), (3, 4)]\n",
    "for (x, y) in obstacles:\n",
    "    grid[x, y] = 1\n",
    "\n",
    "start_point = (4, 0)  # start \n",
    "finish_point = (0, 4) # finish \n",
    "\n",
    "# use 2 for start and 3 for finish\n",
    "grid[start_point] = 2  \n",
    "grid[finish_point] = 3 \n",
    "\n",
    "print(\"\\nGrid with Start (S) and Finish (F) points:\")\n",
    "print(grid)\n"
   ]
  },
  {
   "cell_type": "markdown",
   "metadata": {},
   "source": [
    "#### Task 3: Algorithm Implementation"
   ]
  },
  {
   "cell_type": "code",
   "execution_count": 40,
   "metadata": {},
   "outputs": [
    {
     "name": "stdout",
     "output_type": "stream",
     "text": [
      "The shortest path from Start to Finish:\n",
      "Path: [(4, 0), (3, 0), (2, 0), (1, 0), (0, 0), (0, 1), (0, 2), (0, 3), (0, 4)]\n",
      "Cost: 8\n",
      "\n",
      "Visualization with numpy:\n",
      "[[4. 4. 4. 4. 4.]\n",
      " [4. 0. 1. 0. 0.]\n",
      " [4. 0. 0. 1. 0.]\n",
      " [4. 1. 0. 0. 1.]\n",
      " [4. 0. 0. 0. 0.]]\n"
     ]
    }
   ],
   "source": [
    "from queue import PriorityQueue\n",
    "\n",
    "# Helper function to return the list of valid neighbors\n",
    "def get_neighbors(node):\n",
    "    directions = [(0, 1), (1, 0), (0, -1), (-1, 0),]  # assume we can move in 4 directions only, add more if you like (diagnoal moves etc.)\n",
    "    # directions.extend([ (-1, 1), (1, 1), (1, -1), (-1, -1),])\n",
    "    result = []\n",
    "    for direction in directions:\n",
    "        neighbor = (node[0] + direction[0], node[1] + direction[1])\n",
    "        if 0 <= neighbor[0] < 5 and 0 <= neighbor[1] < 5:  # Check if within bounds\n",
    "            if grid[neighbor] != 1:  # if it's not an obstacle\n",
    "                result.append(neighbor)\n",
    "    return result\n",
    "\n",
    "# Heuristic function for A* is simply the Manhattan distance\n",
    "def heuristic(a, b):\n",
    "    return abs(a[0] - b[0]) + abs(a[1] - b[1])\n",
    "\n",
    "# A* algorithm\n",
    "def astar(start, goal):\n",
    "    frontier = PriorityQueue()\n",
    "    frontier.put((0, start))\n",
    "    came_from = {}\n",
    "    cost_so_far = {}\n",
    "    came_from[start] = None\n",
    "    cost_so_far[start] = 0\n",
    "    \n",
    "    while not frontier.empty():\n",
    "        current = frontier.get()[1]\n",
    "        \n",
    "        if current == goal:\n",
    "            break\n",
    "        \n",
    "        for next in get_neighbors(current):\n",
    "            new_cost = cost_so_far[current] + 1\n",
    "            if next not in cost_so_far or new_cost < cost_so_far[next]:\n",
    "                cost_so_far[next] = new_cost\n",
    "                priority = new_cost + heuristic(goal, next)\n",
    "                frontier.put((priority, next))\n",
    "                came_from[next] = current\n",
    "    \n",
    "    # Reconstruct path\n",
    "    path = []\n",
    "    if goal in came_from:\n",
    "        current = goal\n",
    "        while current != start:\n",
    "            path.append(current)\n",
    "            current = came_from[current]\n",
    "        path.append(start)  \n",
    "        path.reverse() \n",
    "\n",
    "    return path, cost_so_far[goal] if goal in cost_so_far else float('inf')\n",
    "\n",
    "# Find the shortest path from start to finish\n",
    "path, cost = astar(start_point, finish_point)\n",
    "\n",
    "\n",
    "print(\"The shortest path from Start to Finish:\")\n",
    "print(\"Path:\", path)\n",
    "print(\"Cost:\", cost)\n",
    "\n",
    "\n",
    "path_grid = np.array(grid)\n",
    "for step in path:\n",
    "    path_grid[step] = 4  # Representing the path with a 4\n",
    "\n",
    "print(\"\\nVisualization with numpy:\")\n",
    "print(path_grid)\n"
   ]
  },
  {
   "cell_type": "markdown",
   "metadata": {},
   "source": [
    "#### Task 4: Visualization"
   ]
  },
  {
   "cell_type": "code",
   "execution_count": 41,
   "metadata": {},
   "outputs": [
    {
     "data": {
      "image/png": "[encoded data removed]",
      "text/plain": [
       "<Figure size 500x500 with 1 Axes>"
      ]
     },
     "metadata": {},
     "output_type": "display_data"
    }
   ],
   "source": [
    "# Visualizations\n",
    "    \n",
    "def visualize_path_on_grid(start_point, finish_point, path, path_grid, obstacles=[(1, 2), (2, 3), (3, 1), (3, 4)], waypoints=[(2, 2), (1, 4)]):\n",
    "    \n",
    "    # for step in path:\n",
    "    #     path_grid[step] = 4\n",
    "\n",
    "    fig, ax = plt.subplots(figsize=(5, 5))\n",
    "\n",
    "    cmap = plt.cm.viridis\n",
    "    ax.imshow(path_grid, cmap=cmap, vmin=0.1, vmax=4.5)\n",
    "\n",
    "    # gridlines\n",
    "    ax.grid(which='major', axis='both', linestyle='-', color='black', linewidth=2)\n",
    "    ax.set_xticks(np.arange(-.5, 5, 1))\n",
    "    ax.set_yticks(np.arange(-.5, 5, 1))\n",
    "\n",
    "    # Draw the start and finish points\n",
    "    ax.text(start_point[1], start_point[0], 'S', va='center', ha='center', color='black', fontsize=16)\n",
    "    ax.text(finish_point[1], finish_point[0], 'F', va='center', ha='center', color='black', fontsize=16)\n",
    "    for obstacle in obstacles: \n",
    "        ax.text(obstacle[1], obstacle[0], 'O', va='center', ha='center', color='black', fontsize=16)\n",
    "    for waypoint in waypoints: \n",
    "        ax.text(waypoint[1], waypoint[0], 'W', va='center', ha='center', color='black', fontsize=16)\n",
    "\n",
    "    # Draw the arrows representing the path\n",
    "    temp_path = path.copy()\n",
    "    num_steps = len(temp_path)\n",
    "    colors = plt.cm.Wistia(np.linspace(0, 1, num_steps))\n",
    "    count = 0\n",
    "    while len(temp_path) > 1:\n",
    "        start = temp_path.pop(0)\n",
    "        count += 1\n",
    "        end = temp_path[0]\n",
    "        ax.annotate(\"\",\n",
    "                xy=(end[1],end[0]), xycoords='data',\n",
    "                xytext=(start[1],start[0]), textcoords='data',\n",
    "                arrowprops=dict(arrowstyle=\"->\", color=colors[count], lw=1.5))\n",
    "\n",
    "    \n",
    "    # ax.axis('off')\n",
    "    \n",
    "    plt.show()\n",
    "path_grid = np.array(grid)\n",
    "visualize_path_on_grid(start_point, finish_point, path, path_grid, obstacles, waypoints=[])\n",
    "\n"
   ]
  },
  {
   "cell_type": "markdown",
   "metadata": {},
   "source": [
    "## Integration of Waypoints\n"
   ]
  },
  {
   "cell_type": "markdown",
   "metadata": {},
   "source": [
    "> The goal of this task is to find a path that includes the given waypoints.<br>\n",
    "> Thanks to the property of optimal substructure, we can easily break this problem into subproblems of finding path from start to way-point 1, from way-point 1 to way-point 2 ... and finally to the finish point.<br>\n",
    "> This is done through calling astar multiple times."
   ]
  },
  {
   "cell_type": "code",
   "execution_count": 42,
   "metadata": {},
   "outputs": [
    {
     "name": "stdout",
     "output_type": "stream",
     "text": [
      "Complete path including waypoints:\n",
      "[(4, 0), (3, 0), (2, 0), (2, 1), (2, 2), (2, 1), (1, 1), (0, 1), (0, 2), (0, 3), (0, 4), (1, 4), (0, 4)]\n",
      "Total cost: 12\n"
     ]
    },
    {
     "data": {
      "image/png": "[encoded data removed]",
      "text/plain": [
       "<Figure size 500x500 with 1 Axes>"
      ]
     },
     "metadata": {},
     "output_type": "display_data"
    }
   ],
   "source": [
    "waypoints = [(2, 2), (1, 4)]\n",
    "def plan_path_with_waypoints(start, waypoints, finish):\n",
    "    complete_path = []\n",
    "    total_cost = 0\n",
    "    \n",
    "    # to store each waypoint as temporary start\n",
    "    temp_start = start\n",
    "    \n",
    "    # Iterate through the waypoints and calculate path segments\n",
    "    for waypoint in waypoints:\n",
    "        # Find the path to the next waypoint\n",
    "        path_to_waypoint, cost_to_waypoint = astar(temp_start, waypoint)\n",
    "        total_cost += cost_to_waypoint\n",
    "        \n",
    "        # Exclude the start point of the segment if it's not the initial start\n",
    "        if complete_path:\n",
    "            path_to_waypoint = path_to_waypoint[1:]\n",
    "        \n",
    "        # Add the segment to the complete path\n",
    "        complete_path.extend(path_to_waypoint)\n",
    "        \n",
    "        # Update the temporary start\n",
    "        temp_start = waypoint\n",
    "    \n",
    "    # Find the path from the last waypoint to the finish point\n",
    "    path_to_finish, cost_to_finish = astar(temp_start, finish)\n",
    "    total_cost += cost_to_finish\n",
    "    \n",
    "    if complete_path:\n",
    "        path_to_finish = path_to_finish[1:]\n",
    "    \n",
    "  \n",
    "    complete_path.extend(path_to_finish)\n",
    "    \n",
    "    return complete_path, total_cost\n",
    "\n",
    "complete_path, total_cost = plan_path_with_waypoints(start_point, waypoints, finish_point)\n",
    "\n",
    "print(\"Complete path including waypoints:\")\n",
    "print(complete_path)\n",
    "print(\"Total cost:\", total_cost)\n",
    "path_grid = np.array(grid)\n",
    "for points in waypoints:\n",
    "    path_grid[points]=4\n",
    "visualize_path_on_grid(start_point, finish_point, complete_path, path_grid)"
   ]
  },
  {
   "cell_type": "markdown",
   "metadata": {},
   "source": [
    "> However, as shown above, our algorithm allows solution that passes through the finish point before it has visited all the waypoints.<br>\n",
    "> This is a bit counter-intuitive. We can avoid this by temporarily setting the finish point as an obstacle before all the waypoints have been visited.\n"
   ]
  },
  {
   "cell_type": "markdown",
   "metadata": {},
   "source": [
    "### Avoid passing through the finish point"
   ]
  },
  {
   "cell_type": "code",
   "execution_count": 45,
   "metadata": {},
   "outputs": [
    {
     "name": "stdout",
     "output_type": "stream",
     "text": [
      "Complete path including waypoints:\n",
      "[(4, 0), (3, 0), (2, 0), (2, 1), (2, 2), (2, 1), (1, 1), (0, 1), (0, 2), (0, 3), (1, 3), (1, 4), (0, 4)]\n",
      "Total cost: 12\n"
     ]
    },
    {
     "data": {
      "image/png": "[encoded data removed]",
      "text/plain": [
       "<Figure size 500x500 with 1 Axes>"
      ]
     },
     "metadata": {},
     "output_type": "display_data"
    }
   ],
   "source": [
    "waypoints = [(2, 2), (1, 4)]\n",
    "# Adjust the astar function to accept grid as an argument\n",
    "def astar_modified(start, goal, grid):\n",
    "    frontier = PriorityQueue()\n",
    "    frontier.put((0, start))\n",
    "    came_from = {}\n",
    "    cost_so_far = {}\n",
    "    came_from[start] = None\n",
    "    cost_so_far[start] = 0\n",
    "    \n",
    "    while not frontier.empty():\n",
    "        current = frontier.get()[1]\n",
    "        \n",
    "        if current == goal:\n",
    "            break\n",
    "        \n",
    "        for next in get_neighbors_modified(current, grid):\n",
    "            new_cost = cost_so_far[current] + 1\n",
    "            if next not in cost_so_far or new_cost < cost_so_far[next]:\n",
    "                cost_so_far[next] = new_cost\n",
    "                priority = new_cost + heuristic(goal, next)\n",
    "                frontier.put((priority, next))\n",
    "                came_from[next] = current\n",
    "    \n",
    "    # Reconstruct path\n",
    "    path = []\n",
    "    if goal in came_from:\n",
    "        current = goal\n",
    "        while current != start:\n",
    "            path.append(current)\n",
    "            current = came_from[current]\n",
    "        path.append(start)  \n",
    "        path.reverse()  \n",
    "\n",
    "    return path, cost_so_far[goal] if goal in cost_so_far else float('inf')\n",
    "\n",
    "# Helper function to return the list of valid neighbors with modified grid\n",
    "def get_neighbors_modified(node, grid):\n",
    "    directions = [(0, 1), (1, 0), (0, -1), (-1, 0), ]  # 4 possible directions to move: right, down, left, up\n",
    "    # directions.extend([ (-1, 1), (1, 1), (1, -1), (-1, -1),])\n",
    "    result = []\n",
    "    for direction in directions:\n",
    "        neighbor = (node[0] + direction[0], node[1] + direction[1])\n",
    "        if 0 <= neighbor[0] < grid.shape[0] and 0 <= neighbor[1] < grid.shape[1]:  \n",
    "            if grid[neighbor] != 1:  \n",
    "                result.append(neighbor)\n",
    "    return result\n",
    "# Function to plan a path including waypoints\n",
    "def plan_path_with_waypoints_modified(start, waypoints, finish, grid):\n",
    "    complete_path = []\n",
    "    total_cost = 0\n",
    "    \n",
    "    # will be updated to each waypoint in sequence\n",
    "    temp_start = start\n",
    "    temp_grid = np.copy(grid)\n",
    "    temp_grid[finish_point] = 1\n",
    "    \n",
    "    for waypoint in waypoints:\n",
    "        # Find the path to the next waypoint\n",
    "        path_to_waypoint, cost_to_waypoint = astar_modified(temp_start, waypoint, temp_grid)\n",
    "        total_cost += cost_to_waypoint\n",
    "        \n",
    "        # Exclude the start point of the segment if it's not the initial start\n",
    "        if complete_path:\n",
    "            path_to_waypoint = path_to_waypoint[1:]\n",
    "        \n",
    "        # Add the segment to the complete path\n",
    "        complete_path.extend(path_to_waypoint)\n",
    "        \n",
    "        # Update the temporary start to the current waypoint\n",
    "        temp_start = waypoint\n",
    "    \n",
    "    # Find the path from the last waypoint to the finish point\n",
    "    path_to_finish, cost_to_finish = astar(temp_start, finish)\n",
    "    total_cost += cost_to_finish\n",
    "    \n",
    "\n",
    "    if complete_path:\n",
    "        path_to_finish = path_to_finish[1:]\n",
    "    \n",
    "    complete_path.extend(path_to_finish)\n",
    "    \n",
    "    return complete_path, total_cost\n",
    "\n",
    "path_grid = np.array(grid)\n",
    "complete_path, total_cost = plan_path_with_waypoints_modified(start_point, waypoints, finish_point, path_grid)\n",
    "\n",
    "print(\"Complete path including waypoints:\")\n",
    "print(complete_path)\n",
    "print(\"Total cost:\", total_cost)\n",
    "path_grid = np.array(grid)\n",
    "for points in waypoints:\n",
    "    path_grid[points]=4\n",
    "visualize_path_on_grid(start_point, finish_point, complete_path, path_grid)"
   ]
  },
  {
   "cell_type": "markdown",
   "metadata": {},
   "source": [
    "> That looks better. We could further add constraints to not allow for going back to a visited block by similarly setting visited blockes as obstacles, you get the idea. "
   ]
  },
  {
   "cell_type": "markdown",
   "metadata": {},
   "source": [
    "## Varying Terrain"
   ]
  },
  {
   "cell_type": "markdown",
   "metadata": {},
   "source": [
    "> We basically leverage the elevation information by updating the cost not by 1, but by the elevation gain. "
   ]
  },
  {
   "cell_type": "code",
   "execution_count": 46,
   "metadata": {},
   "outputs": [
    {
     "name": "stdout",
     "output_type": "stream",
     "text": [
      "Path considering terrain elevation:\n",
      "[(4, 0), (3, 0), (2, 0), (2, 1), (2, 2), (2, 1), (1, 1), (0, 1), (0, 2), (0, 3), (1, 3), (1, 4), (0, 4)]\n",
      "Total elevation gain: 5\n"
     ]
    },
    {
     "data": {
      "image/png": "[encoded data removed]",
      "text/plain": [
       "<Figure size 500x500 with 1 Axes>"
      ]
     },
     "metadata": {},
     "output_type": "display_data"
    }
   ],
   "source": [
    "#the elevation data\n",
    "elevation_grid = np.array([\n",
    "    [1, 1, 2, 2, 1],  \n",
    "    [1, 2, 2, 3, 2],\n",
    "    [2, 2, 3, 3, 2],\n",
    "    [1, 2, 3, 3, 3],\n",
    "    [1, 1, 2, 2, 2]\n",
    "])\n",
    "\n",
    "waypoints = [(2, 2), (1, 4)]\n",
    "def astar_terrain(start, goal, grid, elevation):\n",
    "    frontier = PriorityQueue()\n",
    "    frontier.put((0, start))\n",
    "    came_from = {}\n",
    "    cost_so_far = {}\n",
    "    came_from[start] = None\n",
    "    cost_so_far[start] = 0\n",
    "    \n",
    "    while not frontier.empty():\n",
    "        current = frontier.get()[1]\n",
    "        \n",
    "        if current == goal:\n",
    "            break\n",
    "        \n",
    "        for next in get_neighbors_modified(current, grid):\n",
    "            new_cost = cost_so_far[current] + (elevation[next] - elevation[current] if elevation[next] > elevation[current] else 0)  # Cost based on elevation gain\n",
    "            if next not in cost_so_far or new_cost < cost_so_far[next]:\n",
    "                cost_so_far[next] = new_cost\n",
    "                priority = new_cost + heuristic(goal, next) \n",
    "                frontier.put((priority, next))\n",
    "                came_from[next] = current\n",
    "    \n",
    "\n",
    "    path = []\n",
    "    if goal in came_from:\n",
    "        current = goal\n",
    "        while current != start:\n",
    "            path.append(current)\n",
    "            current = came_from[current]\n",
    "        path.append(start)  \n",
    "        path.reverse()  \n",
    "\n",
    "    return path, cost_so_far[goal] if goal in cost_so_far else float('inf')\n",
    "\n",
    "# Function to plan a path including waypoints\n",
    "def plan_path_with_waypoints_elevation(start, waypoints, finish, grid, elevation_grid):\n",
    "    complete_path = []\n",
    "    total_cost = 0\n",
    "    \n",
    "    # will be updated to each waypoint in sequence\n",
    "    temp_start = start\n",
    "    temp_grid = np.copy(grid)\n",
    "    temp_grid[finish_point] = 1\n",
    "    \n",
    "    for waypoint in waypoints:\n",
    "        # Find the path to the next waypoint\n",
    "        path_to_waypoint, cost_to_waypoint = astar_terrain(temp_start, waypoint, temp_grid, elevation_grid)\n",
    "        total_cost += cost_to_waypoint\n",
    "        \n",
    "        # Exclude the start point of the segment if it's not the initial start\n",
    "        if complete_path:\n",
    "            path_to_waypoint = path_to_waypoint[1:]\n",
    "        \n",
    "        # Add the segment to the complete path\n",
    "        complete_path.extend(path_to_waypoint)\n",
    "        \n",
    "        # Update the temporary start to the current waypoint\n",
    "        temp_start = waypoint\n",
    "    \n",
    "    # Find the path from the last waypoint to the finish point\n",
    "    path_to_finish, cost_to_finish = astar(temp_start, finish)\n",
    "    total_cost += cost_to_finish\n",
    "    \n",
    "\n",
    "    if complete_path:\n",
    "        path_to_finish = path_to_finish[1:]\n",
    "    \n",
    "    complete_path.extend(path_to_finish)\n",
    "    \n",
    "    return complete_path, total_cost\n",
    "\n",
    "path_grid = np.array(grid)\n",
    "path_terrain, cost_terrain = plan_path_with_waypoints_elevation(start_point, waypoints, finish_point, path_grid, elevation_grid)\n",
    "\n",
    "# path_terrain, cost_terrain = astar_terrain(start_point, finish_point, grid, elevation_grid)\n",
    "\n",
    "print(\"Path considering terrain elevation:\")\n",
    "print(path_terrain)\n",
    "print(\"Total elevation gain:\", cost_terrain)\n",
    "visualize_path_on_grid(start_point, finish_point, path_terrain, elevation_grid)"
   ]
  },
  {
   "cell_type": "code",
   "execution_count": null,
   "metadata": {},
   "outputs": [],
   "source": []
  }
 ],
 "metadata": {
  "kernelspec": {
   "display_name": "GICL",
   "language": "python",
   "name": "python3"
  },
  "language_info": {
   "codemirror_mode": {
    "name": "ipython",
    "version": 3
   },
   "file_extension": ".py",
   "mimetype": "text/x-python",
   "name": "python",
   "nbconvert_exporter": "python",
   "pygments_lexer": "ipython3",
   "version": "3.9.18"
  }
 },
 "nbformat": 4,
 "nbformat_minor": 2
}
