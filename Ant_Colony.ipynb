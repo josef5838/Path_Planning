{
 "cells": [
  {
   "cell_type": "markdown",
   "metadata": {},
   "source": [
    "# Ant Colony Path Finding (Task 1)"
   ]
  },
  {
   "cell_type": "markdown",
   "metadata": {},
   "source": [
    "> A total overkill: just for fun and experimentation! </br>\n",
    "> See readme on my thoughts for using ACO for task 2 and 3."
   ]
  },
  {
   "cell_type": "code",
   "execution_count": 1,
   "metadata": {},
   "outputs": [],
   "source": [
    "import numpy as np"
   ]
  },
  {
   "cell_type": "code",
   "execution_count": 25,
   "metadata": {},
   "outputs": [],
   "source": [
    "\n",
    "grid = [\n",
    "    [0, 0, 0, 0, 0],\n",
    "    [0, 0, 1, 0, 0],\n",
    "    [0, 0, 0, 1, 0],\n",
    "    [0, 1, 0, 0, 1],\n",
    "    [0, 0, 0, 0, 0]\n",
    "]\n",
    "\n",
    "# Start and end positions\n",
    "start = (4, 0)  \n",
    "end = (0, 4)   \n",
    "\n",
    "# Ant Colony Optimization parameters\n",
    "n_ants = 10\n",
    "n_iterations = 100\n",
    "decay = 0.5"
   ]
  },
  {
   "cell_type": "code",
   "execution_count": 33,
   "metadata": {},
   "outputs": [
    {
     "data": {
      "text/plain": [
       "([(4, 0), (3, 0), (2, 0), (1, 0), (0, 0), (0, 1), (0, 2), (0, 3)], 8)"
      ]
     },
     "execution_count": 33,
     "metadata": {},
     "output_type": "execute_result"
    }
   ],
   "source": [
    "\n",
    "class AntColonyOptimization:\n",
    "    def __init__(self, grid, start, end, n_ants, n_iterations, decay, alpha=1, beta=1):\n",
    "        self.grid = np.array(grid)\n",
    "        self.start = start\n",
    "        self.end = end\n",
    "        self.n_ants = n_ants\n",
    "        self.n_iterations = n_iterations\n",
    "        self.decay = decay\n",
    "        self.alpha = alpha  # pheromone importance\n",
    "        self.beta = beta    # distance importance\n",
    "        self.pheromone = np.ones(self.grid.shape) / 10  # Initialize pheromone with a small value\n",
    "        \n",
    "        # Set the pheromone to zero on obstacles\n",
    "        self.pheromone[self.grid == 1] = 0\n",
    "        \n",
    "        self.best_path = None\n",
    "        self.best_path_length = np.inf\n",
    "\n",
    "    def run(self):\n",
    "        for _ in range(self.n_iterations):\n",
    "            all_paths = self.form_paths()\n",
    "            self.update_pheromone(all_paths)\n",
    "            self.evaporate_pheromone()\n",
    "        return self.best_path, self.best_path_length\n",
    "    \n",
    "    def form_paths(self):\n",
    "        all_paths = []\n",
    "        for _ in range(self.n_ants):\n",
    "            path = []\n",
    "            visited = set()\n",
    "            position = self.start\n",
    "\n",
    "            while position != self.end:\n",
    "                path.append(position)\n",
    "                visited.add(position)\n",
    "                next_moves = self.possible_moves(position, visited)\n",
    "                if not next_moves:\n",
    "                    # No moves possible, go back to start\n",
    "                    # Better options could be to backtrack \n",
    "                    # and here I assume that there is always a valid path, but if not, there is infinite loop\n",
    "                    path = [self.start]\n",
    "                    position = self.start\n",
    "                    visited = {self.start}\n",
    "                    continue\n",
    "                next_move = self.pick_move(next_moves)\n",
    "                position = next_move\n",
    "\n",
    "            all_paths.append((path, len(path)))\n",
    "            \n",
    "            # Check if we found a better path\n",
    "            # This is the place we can add elevation infos in task 3\n",
    "            if self.best_path_length > all_paths[-1][1]:\n",
    "                self.best_path = all_paths[-1][0]\n",
    "                self.best_path_length = all_paths[-1][1]\n",
    "\n",
    "        return all_paths\n",
    "\n",
    "    def possible_moves(self, position, visited):\n",
    "        moves = []\n",
    "        for move in [(-1, 0), (1, 0), (0, -1), (0, 1)]:\n",
    "            next_pos = (position[0] + move[0], position[1] + move[1])\n",
    "            if (\n",
    "                0 <= next_pos[0] < self.grid.shape[0]\n",
    "                and 0 <= next_pos[1] < self.grid.shape[1]\n",
    "                and next_pos not in visited\n",
    "                and self.grid[next_pos] != 1  # Avoid obstacles\n",
    "            ):\n",
    "                moves.append(next_pos)\n",
    "        return moves\n",
    "\n",
    "    def pick_move(self, moves):\n",
    "        pheromones = [self.pheromone[move] for move in moves]\n",
    "        distances = [self.heuristic(move) for move in moves]\n",
    "        probabilities = [(pheromone ** self.alpha) * ((1.0 / distance) ** self.beta) for pheromone, distance in zip(pheromones, distances)]\n",
    "        probabilities = probabilities / np.sum(probabilities)\n",
    "        move = np.random.choice(len(moves), p=probabilities)\n",
    "        return moves[move]\n",
    "\n",
    "    def update_pheromone(self, all_paths):\n",
    "        for path, length in all_paths:\n",
    "            for move in path:\n",
    "                self.pheromone[move] += 1.0 / length\n",
    "\n",
    "    def evaporate_pheromone(self):\n",
    "        self.pheromone *= (1 - self.decay)\n",
    "\n",
    "\n",
    "    def heuristic(self, position):\n",
    "        return max(abs(position[0] - self.end[0]) + abs(position[1] - self.end[1]), 1)\n",
    "\n",
    "aco = AntColonyOptimization(grid, start, end, n_ants, n_iterations, decay)\n",
    "\n",
    "best_path, best_path_length = aco.run()\n",
    "best_path, best_path_length\n"
   ]
  },
  {
   "cell_type": "markdown",
   "metadata": {},
   "source": [
    "> boom!"
   ]
  },
  {
   "cell_type": "markdown",
   "metadata": {},
   "source": []
  }
 ],
 "metadata": {
  "kernelspec": {
   "display_name": "dl4cv",
   "language": "python",
   "name": "python3"
  },
  "language_info": {
   "codemirror_mode": {
    "name": "ipython",
    "version": 3
   },
   "file_extension": ".py",
   "mimetype": "text/x-python",
   "name": "python",
   "nbconvert_exporter": "python",
   "pygments_lexer": "ipython3",
   "version": "3.9.13"
  }
 },
 "nbformat": 4,
 "nbformat_minor": 2
}
