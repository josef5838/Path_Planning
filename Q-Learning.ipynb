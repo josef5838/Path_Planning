{
  "cells": [
    {
      "cell_type": "markdown",
      "metadata": {},
      "source": [
        "# Q-Learning Path Planning"
      ]
    },
    {
      "cell_type": "markdown",
      "metadata": {},
      "source": [
        "> In this notebook, I used Q-Learning to tackle the path planning problem."
      ]
    },
    {
      "cell_type": "code",
      "execution_count": 17,
      "metadata": {
        "id": "QAt-3EgKgXQl"
      },
      "outputs": [],
      "source": [
        "import numpy as np\n",
        "import matplotlib.pyplot as plt\n",
        "import random\n",
        "import os\n",
        "from tqdm.auto import tqdm"
      ]
    },
    {
      "cell_type": "markdown",
      "metadata": {},
      "source": [
        "> The basic idea of using Q-learning for path finding involves teaching an agent to navigate from a start point to a destination in an environment by learning from its experiences. </br>\n",
        "> To guide the agent, rewards are given for desirable outcomes and penalties for undesirable ones."
      ]
    },
    {
      "cell_type": "markdown",
      "metadata": {
        "id": "sRjbT7MzSWGj"
      },
      "source": [
        "### Q-Learning Method for Task 1\n"
      ]
    },
    {
      "cell_type": "markdown",
      "metadata": {},
      "source": [
        "##### Code"
      ]
    },
    {
      "cell_type": "code",
      "execution_count": 18,
      "metadata": {
        "id": "iGaUDtQqhYJq"
      },
      "outputs": [],
      "source": [
        "# Define the grid environment\n",
        "class GridWorld:\n",
        "    def __init__(self, size=5):\n",
        "        self.size = size\n",
        "        self.start = (4, 0)  \n",
        "        self.goal = (0, 4)   \n",
        "        self.obstacles = [(1, 2), (2, 3), (3, 4), (3, 1)]  \n",
        "        self.state = self.start\n",
        "        self.end_states = [self.goal]\n",
        "\n",
        "    def reset(self):\n",
        "        self.state = self.start\n",
        "        return self.state\n",
        "\n",
        "    def step(self, action):\n",
        "        reward = -1 # small penalty for each step so that the agent tries to reach the goal in as few steps as possible\n",
        "        if self.state in self.end_states:\n",
        "            return self.state, reward, True\n",
        "\n",
        "        # Calculate the next state given the action\n",
        "        next_state = list(self.state)\n",
        "        if action == 0:  # up\n",
        "            if next_state[0] > 0:\n",
        "                next_state[0] -= 1\n",
        "        elif action == 1:  # down\n",
        "            if next_state[0] < self.size - 1:\n",
        "                next_state[0] += 1\n",
        "        elif action == 2:  # left\n",
        "            if next_state[1] > 0:\n",
        "                next_state[1] -= 1\n",
        "        elif action == 3:  # right\n",
        "            if next_state[1] < self.size - 1:\n",
        "                next_state[1] += 1\n",
        "\n",
        "        # Check for obstacles\n",
        "        if tuple(next_state) in self.obstacles:\n",
        "            next_state = self.state\n",
        "\n",
        "        # Check if the goal is reached\n",
        "        if tuple(next_state) == self.goal:\n",
        "            reward = 100\n",
        "\n",
        "        # update state\n",
        "        self.state = tuple(next_state)\n",
        "        return self.state, reward, self.state in self.end_states\n",
        "\n",
        "    def get_actions(self):\n",
        "        return [0, 1, 2, 3]\n"
      ]
    },
    {
      "cell_type": "code",
      "execution_count": 19,
      "metadata": {
        "id": "MXAG_27rh1Bz"
      },
      "outputs": [],
      "source": [
        "# Initialize the agent's Q-table\n",
        "class QLearningAgent:\n",
        "    def __init__(self, env, alpha=0.1, gamma=0.6, epsilon=0.1):\n",
        "        self.q_table = np.zeros((env.size, env.size, len(env.get_actions())))\n",
        "        self.alpha = alpha\n",
        "        self.gamma = gamma\n",
        "        self.epsilon = epsilon\n",
        "        self.env = env\n",
        "\n",
        "    def choose_action(self, state): # stochastically\n",
        "        if random.uniform(0, 1) < self.epsilon:\n",
        "            return random.choice(self.env.get_actions())  # Explore action space\n",
        "        else:\n",
        "            return np.argmax(self.q_table[state[0], state[1]])  # Exploit learned values\n",
        "\n",
        "    def update_q_table(self, state, action, reward, next_state):\n",
        "        old_value = self.q_table[state[0], state[1], action]\n",
        "        next_max = np.max(self.q_table[next_state[0], next_state[1]])\n",
        "\n",
        "        # Update the Q-value for the current state and action\n",
        "        new_value = (1 - self.alpha) * old_value + self.alpha * (reward + self.gamma * next_max)\n",
        "        self.q_table[state[0], state[1], action] = new_value\n",
        "\n",
        "\n",
        "    def train(self, episodes=1000):\n",
        "        for _ in tqdm(range(episodes)):\n",
        "            state = self.env.reset()\n",
        "            done = False\n",
        "\n",
        "            while not done:\n",
        "                action = self.choose_action(state)\n",
        "                next_state, reward, done = self.env.step(action)\n",
        "                self.update_q_table(state, action, reward, next_state)\n",
        "                state = next_state\n",
        "            \n",
        "        \n",
        "\n"
      ]
    },
    {
      "cell_type": "code",
      "execution_count": 20,
      "metadata": {},
      "outputs": [],
      "source": [
        "def visualize_grid(agent, env):\n",
        "    grid = np.zeros((env.size, env.size))\n",
        "    for obstacle in env.obstacles:\n",
        "        grid[obstacle] = 1  \n",
        "    if hasattr(env, 'waypoints'): # This line for task 2\n",
        "        for waypoint in env.waypoints:\n",
        "            grid[waypoint] = 2   \n",
        "    grid[env.start] = 3  \n",
        "    grid[env.goal] = 4  \n",
        "\n",
        "    # Retrieve the best path from the Q-table\n",
        "    state = env.start\n",
        "    path = [state]\n",
        "    while state not in env.end_states:\n",
        "        action = np.argmax(agent.q_table[state[0], state[1]])\n",
        "        next_state = (state[0], state[1])\n",
        "        if action == 0 and state[0] > 0:  # up\n",
        "            next_state = (state[0] - 1, state[1])\n",
        "        elif action == 1 and state[0] < env.size - 1:  # down\n",
        "            next_state = (state[0] + 1, state[1])\n",
        "        elif action == 2 and state[1] > 0:  # left\n",
        "            next_state = (state[0], state[1] - 1)\n",
        "        elif action == 3 and state[1] < env.size - 1:  # right\n",
        "            next_state = (state[0], state[1] + 1)\n",
        "\n",
        "        if next_state in env.obstacles or next_state == state:\n",
        "            # Break if the next state is an obstacle or the same as the current state (no movement)\n",
        "            break\n",
        "\n",
        "        path.append(next_state)\n",
        "        state = next_state\n",
        "        if state in env.end_states:\n",
        "            break\n",
        "\n",
        "    # Visualize the grid with the path\n",
        "    fig, ax = plt.subplots(figsize=(5, 5))\n",
        "    cmap = plt.cm.viridis\n",
        "    norm = plt.Normalize(0, 4)\n",
        "    ax.imshow(grid, cmap=cmap, norm=norm)\n",
        "\n",
        "    # gridlines\n",
        "    ax.grid(which='major', axis='both', linestyle='-', color='black', linewidth=2)\n",
        "    ax.set_xticks(np.arange(-.5, env.size, 1))\n",
        "    ax.set_yticks(np.arange(-.5, env.size, 1))\n",
        "\n",
        "    # Draw start and finish points\n",
        "    ax.text(env.start[1], env.start[0], 'S', va='center', ha='center', color='black', fontsize=16)\n",
        "    ax.text(env.goal[1], env.goal[0], 'F', va='center', ha='center', color='black', fontsize=16)\n",
        "    for obstacle in env.obstacles: \n",
        "        ax.text(obstacle[1], obstacle[0], 'O', va='center', ha='center', color='black', fontsize=16)\n",
        "\n",
        "    if hasattr(env, 'waypoints'):\n",
        "        # Draw waypoints\n",
        "        for waypoint in env.waypoints:\n",
        "            ax.text(waypoint[1], waypoint[0], 'W', va='center', ha='center', color='black', fontsize=16)\n",
        "\n",
        "    # Draw the arrows representing the path\n",
        "    num_steps = len(path)\n",
        "    colors = plt.cm.Wistia(np.linspace(0, 1, num_steps))\n",
        "    count = 0\n",
        "    for start, end in zip(path[:-1], path[1:]):\n",
        "        count += 1\n",
        "        ax.annotate(\"\", xy=(end[1], end[0]), xycoords='data',\n",
        "                    xytext=(start[1], start[0]), textcoords='data',\n",
        "                    arrowprops=dict(arrowstyle=\"->\", color=colors[count], lw=1.5))\n",
        "\n",
        "    plt.show()\n"
      ]
    },
    {
      "cell_type": "markdown",
      "metadata": {},
      "source": [
        "##### Result"
      ]
    },
    {
      "cell_type": "code",
      "execution_count": 21,
      "metadata": {
        "colab": {
          "base_uri": "https://localhost:8080/",
          "height": 467,
          "referenced_widgets": [
            "11aadd89efe447eabfd65d3e46212049",
            "fef5ed9a56f34e7f8a90e233523db720",
            "00830c0e1d9e434c927ede66a54721f9",
            "3a7089e9fe974ba4bc03d92ac8c941c1",
            "762b867445cd42ba8f096d4054e53c12",
            "3d090727ccac428e9e5400d4299b53d6",
            "9305590bd50c4b65b2fe0d188f980839",
            "3efa49b373114fb4a4e1df2503122fd6",
            "89289fa867154ce3bdb7e322fcc3a2b3",
            "eb3ecfa372b94c23a7ddbbf509ffce83",
            "aa18fbf95de14f20b6497d6007c1ade0"
          ]
        },
        "id": "j8ceuj50ihk2",
        "outputId": "5b6fd16a-ad6b-40c5-f9fd-d54fa7df8f5e"
      },
      "outputs": [
        {
          "data": {
            "application/vnd.jupyter.widget-view+json": {
              "model_id": "704edf748e3e4597a833eb35e78f6be5",
              "version_major": 2,
              "version_minor": 0
            },
            "text/plain": [
              "  0%|          | 0/100 [00:00<?, ?it/s]"
            ]
          },
          "metadata": {},
          "output_type": "display_data"
        },
        {
          "data": {
            "image/png": "[encoded data removed]",
            "text/plain": [
              "<Figure size 500x500 with 1 Axes>"
            ]
          },
          "metadata": {},
          "output_type": "display_data"
        }
      ],
      "source": [
        "\n",
        "environment = GridWorld()\n",
        "q_learning_agent = QLearningAgent(environment)\n",
        "\n",
        "q_learning_agent.train(episodes=100)\n",
        "\n",
        "visualize_grid(q_learning_agent, environment)\n"
      ]
    },
    {
      "cell_type": "markdown",
      "metadata": {
        "id": "DSdxL9QzSguG"
      },
      "source": [
        "### Q-Learning Method for Task 2"
      ]
    },
    {
      "cell_type": "markdown",
      "metadata": {},
      "source": [
        "> The idea for this task is to set a middle reward when reaching each waypoint and to penalize attempts when arriving at the end point without having visited all waypoints."
      ]
    },
    {
      "cell_type": "markdown",
      "metadata": {},
      "source": [
        "##### Code"
      ]
    },
    {
      "cell_type": "code",
      "execution_count": 22,
      "metadata": {},
      "outputs": [],
      "source": [
        "class GridWorldWithWaypoints:\n",
        "    def __init__(self, size=5):\n",
        "        self.size = size\n",
        "        self.start = (4, 0)  \n",
        "        self.goal = (0, 4)   \n",
        "        self.obstacles = [(1, 2), (2, 3), (3, 4), (3, 1)]  \n",
        "        self.waypoints = [(2, 2), (1, 4)]  \n",
        "        self.state = self.start\n",
        "        self.end_states = [self.goal]\n",
        "        self.waypoint_order = []  # Keep track of visited waypoints\n",
        "\n",
        "    def reset(self):\n",
        "        self.state = self.start\n",
        "        self.waypoint_order = []  # Reset the visited waypoints\n",
        "        return self.state\n",
        "\n",
        "    def step(self, action):\n",
        "        if self.state in self.end_states:\n",
        "            return self.state, 0, True  # No reward for staying in the goal\n",
        "\n",
        "        # Determine next state\n",
        "        row, col = self.state\n",
        "        if action == 0 and row > 0:  # up\n",
        "            row -= 1\n",
        "        elif action == 1 and row < self.size - 1:  # down\n",
        "            row += 1\n",
        "        elif action == 2 and col > 0:  # left\n",
        "            col -= 1\n",
        "        elif action == 3 and col < self.size - 1:  # right\n",
        "            col += 1\n",
        "        next_state = (row, col)\n",
        "\n",
        "        # Check for obstacles\n",
        "        if next_state in self.obstacles:\n",
        "            next_state = self.state  # No movement\n",
        "\n",
        "        # Update the state\n",
        "        self.state = next_state\n",
        "\n",
        "        # Check for waypoints and goal state\n",
        "        reward, done = self.evaluate_rewards_and_done()\n",
        "        return self.state, reward, done\n",
        "\n",
        "    def evaluate_rewards_and_done(self):\n",
        "        reward = -1  # Default cost\n",
        "        done = False\n",
        "\n",
        "        # Check if a waypoint is reached and it hasn't been visited yet\n",
        "        if self.state in self.waypoints and self.state not in self.waypoint_order:\n",
        "            self.waypoint_order.append(self.state)\n",
        "            reward = 10  # Reward for visiting a waypoint\n",
        "\n",
        "        # Check if the goal is reached\n",
        "        if self.state == self.goal:\n",
        "            if set(self.waypoint_order) == set(self.waypoints):\n",
        "                reward = 100  # Big reward for visiting all waypoints and then reaching the goal\n",
        "                done = True  # End the episode\n",
        "            else:\n",
        "                reward = -100  # Penalty for reaching the goal without visiting all waypoints\n",
        "                done = True  # Still end the episode, but with a penalty\n",
        "\n",
        "        return reward, done\n",
        "\n",
        "\n",
        "\n",
        "    def get_actions(self):\n",
        "        return [0, 1, 2, 3]\n"
      ]
    },
    {
      "cell_type": "markdown",
      "metadata": {},
      "source": [
        "##### Result"
      ]
    },
    {
      "cell_type": "code",
      "execution_count": 23,
      "metadata": {
        "id": "kxWqKZDerb7c"
      },
      "outputs": [
        {
          "data": {
            "application/vnd.jupyter.widget-view+json": {
              "model_id": "0b894dd7d73a49afbe73ebcce2f68aa6",
              "version_major": 2,
              "version_minor": 0
            },
            "text/plain": [
              "  0%|          | 0/100 [00:00<?, ?it/s]"
            ]
          },
          "metadata": {},
          "output_type": "display_data"
        },
        {
          "data": {
            "image/png": "[encoded data removed]",
            "text/plain": [
              "<Figure size 500x500 with 1 Axes>"
            ]
          },
          "metadata": {},
          "output_type": "display_data"
        }
      ],
      "source": [
        "env = GridWorldWithWaypoints()\n",
        "agent = QLearningAgent(env)\n",
        "\n",
        "agent.train(episodes=100)\n",
        "\n",
        "visualize_grid(agent, env)"
      ]
    },
    {
      "cell_type": "markdown",
      "metadata": {},
      "source": [
        "### Q-Learning Method for Task 3"
      ]
    },
    {
      "cell_type": "markdown",
      "metadata": {},
      "source": [
        "> This task is super easy, we just raise the step penalties with the elevation gain of the cell."
      ]
    },
    {
      "cell_type": "markdown",
      "metadata": {},
      "source": [
        "##### Code"
      ]
    },
    {
      "cell_type": "code",
      "execution_count": 14,
      "metadata": {},
      "outputs": [],
      "source": [
        "class GridWorldWithWaypointsElevation:\n",
        "    def __init__(self, size=5):\n",
        "        self.size = size\n",
        "        self.start = (4, 0)  \n",
        "        self.goal = (0, 4)   \n",
        "        self.obstacles = [(1, 2), (2, 3), (3, 4), (3, 1)]  \n",
        "        self.waypoints = [(2, 2), (1, 4)]  \n",
        "        self.state = self.start\n",
        "        self.end_states = [self.goal]\n",
        "        self.waypoint_order = []  # Keep track of visited waypoints\n",
        "        self.elevation = np.array([\n",
        "            [1, 1, 2, 2, 1],  \n",
        "            [1, 2, 2, 3, 2],\n",
        "            [2, 2, 3, 3, 2],\n",
        "            [1, 2, 3, 3, 3],\n",
        "            [1, 1, 2, 2, 2]\n",
        "        ])\n",
        "\n",
        "    def reset(self):\n",
        "        self.state = self.start\n",
        "        self.waypoint_order = []  # Reset the visited waypoints\n",
        "        return self.state\n",
        "\n",
        "    def step(self, action):\n",
        "        if self.state in self.end_states:\n",
        "            return self.state, 0, True  # No reward for staying in the goal\n",
        "\n",
        "        # Determine next state\n",
        "        row, col = self.state\n",
        "        if action == 0 and row > 0:  # up\n",
        "            row -= 1\n",
        "        elif action == 1 and row < self.size - 1:  # down\n",
        "            row += 1\n",
        "        elif action == 2 and col > 0:  # left\n",
        "            col -= 1\n",
        "        elif action == 3 and col < self.size - 1:  # right\n",
        "            col += 1\n",
        "        next_state = (row, col)\n",
        "\n",
        "        # Check for obstacles\n",
        "        if next_state in self.obstacles:\n",
        "            next_state = self.state  # No movement\n",
        "\n",
        "        # Update the state\n",
        "        prev_state = self.state\n",
        "        self.state = next_state\n",
        "\n",
        "        # Check for waypoints and goal state\n",
        "        reward, done = self.evaluate_rewards_and_done(prev_state, self.state)\n",
        "        return self.state, reward, done\n",
        "\n",
        "    def evaluate_rewards_and_done(self, previous, current):\n",
        "        reward = -1 - (self.elevation[current] - self.elevation[previous] if self.elevation[current] > self.elevation[previous] else 0)  # Default cost\n",
        "        done = False\n",
        "\n",
        "        # Check if a waypoint is reached and it hasn't been visited yet\n",
        "        if self.state in self.waypoints and self.state not in self.waypoint_order:\n",
        "            self.waypoint_order.append(self.state)\n",
        "            reward = 20  # Reward for visiting a waypoint\n",
        "\n",
        "        # Check if the goal is reached\n",
        "        if self.state == self.goal:\n",
        "            if set(self.waypoint_order) == set(self.waypoints):\n",
        "                reward = 100  # Big reward for visiting all waypoints and then reaching the goal\n",
        "                done = True  # End the episode\n",
        "            else:\n",
        "                reward = -100  # Penalty for reaching the goal without visiting all waypoints\n",
        "                done = True  # Still end the episode, but with a penalty\n",
        "\n",
        "        return reward, done\n",
        "\n",
        "\n",
        "\n",
        "    def get_actions(self):\n",
        "        return [0, 1, 2, 3]\n"
      ]
    },
    {
      "cell_type": "code",
      "execution_count": 24,
      "metadata": {},
      "outputs": [
        {
          "data": {
            "application/vnd.jupyter.widget-view+json": {
              "model_id": "00c8cdee20e14397897b90b538fb2c52",
              "version_major": 2,
              "version_minor": 0
            },
            "text/plain": [
              "  0%|          | 0/1000 [00:00<?, ?it/s]"
            ]
          },
          "metadata": {},
          "output_type": "display_data"
        },
        {
          "data": {
            "image/png": "[encoded data removed]",
            "text/plain": [
              "<Figure size 500x500 with 1 Axes>"
            ]
          },
          "metadata": {},
          "output_type": "display_data"
        }
      ],
      "source": [
        "e_env = GridWorldWithWaypointsElevation()\n",
        "e_agent = QLearningAgent(env)\n",
        "\n",
        "e_agent.train(episodes=1000)\n",
        "\n",
        "visualize_grid(e_agent, e_env)"
      ]
    },
    {
      "cell_type": "markdown",
      "metadata": {},
      "source": [
        "##### Result"
      ]
    }
  ],
  "metadata": {
    "colab": {
      "provenance": []
    },
    "kernelspec": {
      "display_name": "Python 3",
      "name": "python3"
    },
    "language_info": {
      "codemirror_mode": {
        "name": "ipython",
        "version": 3
      },
      "file_extension": ".py",
      "mimetype": "text/x-python",
      "name": "python",
      "nbconvert_exporter": "python",
      "pygments_lexer": "ipython3",
      "version": "3.9.18"
    },
    "widgets": {
      "application/vnd.jupyter.widget-state+json": {
        "0020dcb39e3b42b484937c6b76024970": {
          "model_module": "@jupyter-widgets/base",
          "model_module_version": "1.2.0",
          "model_name": "LayoutModel",
          "state": {
            "_model_module": "@jupyter-widgets/base",
            "_model_module_version": "1.2.0",
            "_model_name": "LayoutModel",
            "_view_count": null,
            "_view_module": "@jupyter-widgets/base",
            "_view_module_version": "1.2.0",
            "_view_name": "LayoutView",
            "align_content": null,
            "align_items": null,
            "align_self": null,
            "border": null,
            "bottom": null,
            "display": null,
            "flex": null,
            "flex_flow": null,
            "grid_area": null,
            "grid_auto_columns": null,
            "grid_auto_flow": null,
            "grid_auto_rows": null,
            "grid_column": null,
            "grid_gap": null,
            "grid_row": null,
            "grid_template_areas": null,
            "grid_template_columns": null,
            "grid_template_rows": null,
            "height": null,
            "justify_content": null,
            "justify_items": null,
            "left": null,
            "margin": null,
            "max_height": null,
            "max_width": null,
            "min_height": null,
            "min_width": null,
            "object_fit": null,
            "object_position": null,
            "order": null,
            "overflow": null,
            "overflow_x": null,
            "overflow_y": null,
            "padding": null,
            "right": null,
            "top": null,
            "visibility": null,
            "width": null
          }
        },
        "00830c0e1d9e434c927ede66a54721f9": {
          "model_module": "@jupyter-widgets/controls",
          "model_module_version": "1.5.0",
          "model_name": "FloatProgressModel",
          "state": {
            "_dom_classes": [],
            "_model_module": "@jupyter-widgets/controls",
            "_model_module_version": "1.5.0",
            "_model_name": "FloatProgressModel",
            "_view_count": null,
            "_view_module": "@jupyter-widgets/controls",
            "_view_module_version": "1.5.0",
            "_view_name": "ProgressView",
            "bar_style": "success",
            "description": "",
            "description_tooltip": null,
            "layout": "IPY_MODEL_3efa49b373114fb4a4e1df2503122fd6",
            "max": 1000,
            "min": 0,
            "orientation": "horizontal",
            "style": "IPY_MODEL_89289fa867154ce3bdb7e322fcc3a2b3",
            "value": 1000
          }
        },
        "11aadd89efe447eabfd65d3e46212049": {
          "model_module": "@jupyter-widgets/controls",
          "model_module_version": "1.5.0",
          "model_name": "HBoxModel",
          "state": {
            "_dom_classes": [],
            "_model_module": "@jupyter-widgets/controls",
            "_model_module_version": "1.5.0",
            "_model_name": "HBoxModel",
            "_view_count": null,
            "_view_module": "@jupyter-widgets/controls",
            "_view_module_version": "1.5.0",
            "_view_name": "HBoxView",
            "box_style": "",
            "children": [
              "IPY_MODEL_fef5ed9a56f34e7f8a90e233523db720",
              "IPY_MODEL_00830c0e1d9e434c927ede66a54721f9",
              "IPY_MODEL_3a7089e9fe974ba4bc03d92ac8c941c1"
            ],
            "layout": "IPY_MODEL_762b867445cd42ba8f096d4054e53c12"
          }
        },
        "263a4701799f4c2192ac18745dc1b894": {
          "model_module": "@jupyter-widgets/base",
          "model_module_version": "1.2.0",
          "model_name": "LayoutModel",
          "state": {
            "_model_module": "@jupyter-widgets/base",
            "_model_module_version": "1.2.0",
            "_model_name": "LayoutModel",
            "_view_count": null,
            "_view_module": "@jupyter-widgets/base",
            "_view_module_version": "1.2.0",
            "_view_name": "LayoutView",
            "align_content": null,
            "align_items": null,
            "align_self": null,
            "border": null,
            "bottom": null,
            "display": null,
            "flex": null,
            "flex_flow": null,
            "grid_area": null,
            "grid_auto_columns": null,
            "grid_auto_flow": null,
            "grid_auto_rows": null,
            "grid_column": null,
            "grid_gap": null,
            "grid_row": null,
            "grid_template_areas": null,
            "grid_template_columns": null,
            "grid_template_rows": null,
            "height": null,
            "justify_content": null,
            "justify_items": null,
            "left": null,
            "margin": null,
            "max_height": null,
            "max_width": null,
            "min_height": null,
            "min_width": null,
            "object_fit": null,
            "object_position": null,
            "order": null,
            "overflow": null,
            "overflow_x": null,
            "overflow_y": null,
            "padding": null,
            "right": null,
            "top": null,
            "visibility": null,
            "width": null
          }
        },
        "3a7089e9fe974ba4bc03d92ac8c941c1": {
          "model_module": "@jupyter-widgets/controls",
          "model_module_version": "1.5.0",
          "model_name": "HTMLModel",
          "state": {
            "_dom_classes": [],
            "_model_module": "@jupyter-widgets/controls",
            "_model_module_version": "1.5.0",
            "_model_name": "HTMLModel",
            "_view_count": null,
            "_view_module": "@jupyter-widgets/controls",
            "_view_module_version": "1.5.0",
            "_view_name": "HTMLView",
            "description": "",
            "description_tooltip": null,
            "layout": "IPY_MODEL_eb3ecfa372b94c23a7ddbbf509ffce83",
            "placeholder": "​",
            "style": "IPY_MODEL_aa18fbf95de14f20b6497d6007c1ade0",
            "value": " 1000/1000 [00:00&lt;00:00, 4808.59it/s]"
          }
        },
        "3d090727ccac428e9e5400d4299b53d6": {
          "model_module": "@jupyter-widgets/base",
          "model_module_version": "1.2.0",
          "model_name": "LayoutModel",
          "state": {
            "_model_module": "@jupyter-widgets/base",
            "_model_module_version": "1.2.0",
            "_model_name": "LayoutModel",
            "_view_count": null,
            "_view_module": "@jupyter-widgets/base",
            "_view_module_version": "1.2.0",
            "_view_name": "LayoutView",
            "align_content": null,
            "align_items": null,
            "align_self": null,
            "border": null,
            "bottom": null,
            "display": null,
            "flex": null,
            "flex_flow": null,
            "grid_area": null,
            "grid_auto_columns": null,
            "grid_auto_flow": null,
            "grid_auto_rows": null,
            "grid_column": null,
            "grid_gap": null,
            "grid_row": null,
            "grid_template_areas": null,
            "grid_template_columns": null,
            "grid_template_rows": null,
            "height": null,
            "justify_content": null,
            "justify_items": null,
            "left": null,
            "margin": null,
            "max_height": null,
            "max_width": null,
            "min_height": null,
            "min_width": null,
            "object_fit": null,
            "object_position": null,
            "order": null,
            "overflow": null,
            "overflow_x": null,
            "overflow_y": null,
            "padding": null,
            "right": null,
            "top": null,
            "visibility": null,
            "width": null
          }
        },
        "3efa49b373114fb4a4e1df2503122fd6": {
          "model_module": "@jupyter-widgets/base",
          "model_module_version": "1.2.0",
          "model_name": "LayoutModel",
          "state": {
            "_model_module": "@jupyter-widgets/base",
            "_model_module_version": "1.2.0",
            "_model_name": "LayoutModel",
            "_view_count": null,
            "_view_module": "@jupyter-widgets/base",
            "_view_module_version": "1.2.0",
            "_view_name": "LayoutView",
            "align_content": null,
            "align_items": null,
            "align_self": null,
            "border": null,
            "bottom": null,
            "display": null,
            "flex": null,
            "flex_flow": null,
            "grid_area": null,
            "grid_auto_columns": null,
            "grid_auto_flow": null,
            "grid_auto_rows": null,
            "grid_column": null,
            "grid_gap": null,
            "grid_row": null,
            "grid_template_areas": null,
            "grid_template_columns": null,
            "grid_template_rows": null,
            "height": null,
            "justify_content": null,
            "justify_items": null,
            "left": null,
            "margin": null,
            "max_height": null,
            "max_width": null,
            "min_height": null,
            "min_width": null,
            "object_fit": null,
            "object_position": null,
            "order": null,
            "overflow": null,
            "overflow_x": null,
            "overflow_y": null,
            "padding": null,
            "right": null,
            "top": null,
            "visibility": null,
            "width": null
          }
        },
        "43b6ec5a031f4980822ac7cda68e6b3d": {
          "model_module": "@jupyter-widgets/controls",
          "model_module_version": "1.5.0",
          "model_name": "HTMLModel",
          "state": {
            "_dom_classes": [],
            "_model_module": "@jupyter-widgets/controls",
            "_model_module_version": "1.5.0",
            "_model_name": "HTMLModel",
            "_view_count": null,
            "_view_module": "@jupyter-widgets/controls",
            "_view_module_version": "1.5.0",
            "_view_name": "HTMLView",
            "description": "",
            "description_tooltip": null,
            "layout": "IPY_MODEL_263a4701799f4c2192ac18745dc1b894",
            "placeholder": "​",
            "style": "IPY_MODEL_c64d60c521d14bf0a8f5fa800964e029",
            "value": "100%"
          }
        },
        "583e59adda7047c5bc944b72ca7ba039": {
          "model_module": "@jupyter-widgets/base",
          "model_module_version": "1.2.0",
          "model_name": "LayoutModel",
          "state": {
            "_model_module": "@jupyter-widgets/base",
            "_model_module_version": "1.2.0",
            "_model_name": "LayoutModel",
            "_view_count": null,
            "_view_module": "@jupyter-widgets/base",
            "_view_module_version": "1.2.0",
            "_view_name": "LayoutView",
            "align_content": null,
            "align_items": null,
            "align_self": null,
            "border": null,
            "bottom": null,
            "display": null,
            "flex": null,
            "flex_flow": null,
            "grid_area": null,
            "grid_auto_columns": null,
            "grid_auto_flow": null,
            "grid_auto_rows": null,
            "grid_column": null,
            "grid_gap": null,
            "grid_row": null,
            "grid_template_areas": null,
            "grid_template_columns": null,
            "grid_template_rows": null,
            "height": null,
            "justify_content": null,
            "justify_items": null,
            "left": null,
            "margin": null,
            "max_height": null,
            "max_width": null,
            "min_height": null,
            "min_width": null,
            "object_fit": null,
            "object_position": null,
            "order": null,
            "overflow": null,
            "overflow_x": null,
            "overflow_y": null,
            "padding": null,
            "right": null,
            "top": null,
            "visibility": null,
            "width": null
          }
        },
        "6eb1929b8ee047479a7705ac57f81162": {
          "model_module": "@jupyter-widgets/controls",
          "model_module_version": "1.5.0",
          "model_name": "FloatProgressModel",
          "state": {
            "_dom_classes": [],
            "_model_module": "@jupyter-widgets/controls",
            "_model_module_version": "1.5.0",
            "_model_name": "FloatProgressModel",
            "_view_count": null,
            "_view_module": "@jupyter-widgets/controls",
            "_view_module_version": "1.5.0",
            "_view_name": "ProgressView",
            "bar_style": "success",
            "description": "",
            "description_tooltip": null,
            "layout": "IPY_MODEL_583e59adda7047c5bc944b72ca7ba039",
            "max": 1000,
            "min": 0,
            "orientation": "horizontal",
            "style": "IPY_MODEL_cfbedb8d56be45828e6eeb8d0579d850",
            "value": 1000
          }
        },
        "762b867445cd42ba8f096d4054e53c12": {
          "model_module": "@jupyter-widgets/base",
          "model_module_version": "1.2.0",
          "model_name": "LayoutModel",
          "state": {
            "_model_module": "@jupyter-widgets/base",
            "_model_module_version": "1.2.0",
            "_model_name": "LayoutModel",
            "_view_count": null,
            "_view_module": "@jupyter-widgets/base",
            "_view_module_version": "1.2.0",
            "_view_name": "LayoutView",
            "align_content": null,
            "align_items": null,
            "align_self": null,
            "border": null,
            "bottom": null,
            "display": null,
            "flex": null,
            "flex_flow": null,
            "grid_area": null,
            "grid_auto_columns": null,
            "grid_auto_flow": null,
            "grid_auto_rows": null,
            "grid_column": null,
            "grid_gap": null,
            "grid_row": null,
            "grid_template_areas": null,
            "grid_template_columns": null,
            "grid_template_rows": null,
            "height": null,
            "justify_content": null,
            "justify_items": null,
            "left": null,
            "margin": null,
            "max_height": null,
            "max_width": null,
            "min_height": null,
            "min_width": null,
            "object_fit": null,
            "object_position": null,
            "order": null,
            "overflow": null,
            "overflow_x": null,
            "overflow_y": null,
            "padding": null,
            "right": null,
            "top": null,
            "visibility": null,
            "width": null
          }
        },
        "7ef8b45654744727bc991e3ebd404cad": {
          "model_module": "@jupyter-widgets/controls",
          "model_module_version": "1.5.0",
          "model_name": "HBoxModel",
          "state": {
            "_dom_classes": [],
            "_model_module": "@jupyter-widgets/controls",
            "_model_module_version": "1.5.0",
            "_model_name": "HBoxModel",
            "_view_count": null,
            "_view_module": "@jupyter-widgets/controls",
            "_view_module_version": "1.5.0",
            "_view_name": "HBoxView",
            "box_style": "",
            "children": [
              "IPY_MODEL_43b6ec5a031f4980822ac7cda68e6b3d",
              "IPY_MODEL_6eb1929b8ee047479a7705ac57f81162",
              "IPY_MODEL_7fee26aea12045c1aac88351f161bf44"
            ],
            "layout": "IPY_MODEL_0020dcb39e3b42b484937c6b76024970"
          }
        },
        "7fee26aea12045c1aac88351f161bf44": {
          "model_module": "@jupyter-widgets/controls",
          "model_module_version": "1.5.0",
          "model_name": "HTMLModel",
          "state": {
            "_dom_classes": [],
            "_model_module": "@jupyter-widgets/controls",
            "_model_module_version": "1.5.0",
            "_model_name": "HTMLModel",
            "_view_count": null,
            "_view_module": "@jupyter-widgets/controls",
            "_view_module_version": "1.5.0",
            "_view_name": "HTMLView",
            "description": "",
            "description_tooltip": null,
            "layout": "IPY_MODEL_ca0bd0c67e174d818aa66d9ed66f399a",
            "placeholder": "​",
            "style": "IPY_MODEL_f24911c7ca074058a8a86a84743d02cd",
            "value": " 1000/1000 [00:01&lt;00:00, 876.30it/s]"
          }
        },
        "89289fa867154ce3bdb7e322fcc3a2b3": {
          "model_module": "@jupyter-widgets/controls",
          "model_module_version": "1.5.0",
          "model_name": "ProgressStyleModel",
          "state": {
            "_model_module": "@jupyter-widgets/controls",
            "_model_module_version": "1.5.0",
            "_model_name": "ProgressStyleModel",
            "_view_count": null,
            "_view_module": "@jupyter-widgets/base",
            "_view_module_version": "1.2.0",
            "_view_name": "StyleView",
            "bar_color": null,
            "description_width": ""
          }
        },
        "9305590bd50c4b65b2fe0d188f980839": {
          "model_module": "@jupyter-widgets/controls",
          "model_module_version": "1.5.0",
          "model_name": "DescriptionStyleModel",
          "state": {
            "_model_module": "@jupyter-widgets/controls",
            "_model_module_version": "1.5.0",
            "_model_name": "DescriptionStyleModel",
            "_view_count": null,
            "_view_module": "@jupyter-widgets/base",
            "_view_module_version": "1.2.0",
            "_view_name": "StyleView",
            "description_width": ""
          }
        },
        "aa18fbf95de14f20b6497d6007c1ade0": {
          "model_module": "@jupyter-widgets/controls",
          "model_module_version": "1.5.0",
          "model_name": "DescriptionStyleModel",
          "state": {
            "_model_module": "@jupyter-widgets/controls",
            "_model_module_version": "1.5.0",
            "_model_name": "DescriptionStyleModel",
            "_view_count": null,
            "_view_module": "@jupyter-widgets/base",
            "_view_module_version": "1.2.0",
            "_view_name": "StyleView",
            "description_width": ""
          }
        },
        "c64d60c521d14bf0a8f5fa800964e029": {
          "model_module": "@jupyter-widgets/controls",
          "model_module_version": "1.5.0",
          "model_name": "DescriptionStyleModel",
          "state": {
            "_model_module": "@jupyter-widgets/controls",
            "_model_module_version": "1.5.0",
            "_model_name": "DescriptionStyleModel",
            "_view_count": null,
            "_view_module": "@jupyter-widgets/base",
            "_view_module_version": "1.2.0",
            "_view_name": "StyleView",
            "description_width": ""
          }
        },
        "ca0bd0c67e174d818aa66d9ed66f399a": {
          "model_module": "@jupyter-widgets/base",
          "model_module_version": "1.2.0",
          "model_name": "LayoutModel",
          "state": {
            "_model_module": "@jupyter-widgets/base",
            "_model_module_version": "1.2.0",
            "_model_name": "LayoutModel",
            "_view_count": null,
            "_view_module": "@jupyter-widgets/base",
            "_view_module_version": "1.2.0",
            "_view_name": "LayoutView",
            "align_content": null,
            "align_items": null,
            "align_self": null,
            "border": null,
            "bottom": null,
            "display": null,
            "flex": null,
            "flex_flow": null,
            "grid_area": null,
            "grid_auto_columns": null,
            "grid_auto_flow": null,
            "grid_auto_rows": null,
            "grid_column": null,
            "grid_gap": null,
            "grid_row": null,
            "grid_template_areas": null,
            "grid_template_columns": null,
            "grid_template_rows": null,
            "height": null,
            "justify_content": null,
            "justify_items": null,
            "left": null,
            "margin": null,
            "max_height": null,
            "max_width": null,
            "min_height": null,
            "min_width": null,
            "object_fit": null,
            "object_position": null,
            "order": null,
            "overflow": null,
            "overflow_x": null,
            "overflow_y": null,
            "padding": null,
            "right": null,
            "top": null,
            "visibility": null,
            "width": null
          }
        },
        "cfbedb8d56be45828e6eeb8d0579d850": {
          "model_module": "@jupyter-widgets/controls",
          "model_module_version": "1.5.0",
          "model_name": "ProgressStyleModel",
          "state": {
            "_model_module": "@jupyter-widgets/controls",
            "_model_module_version": "1.5.0",
            "_model_name": "ProgressStyleModel",
            "_view_count": null,
            "_view_module": "@jupyter-widgets/base",
            "_view_module_version": "1.2.0",
            "_view_name": "StyleView",
            "bar_color": null,
            "description_width": ""
          }
        },
        "eb3ecfa372b94c23a7ddbbf509ffce83": {
          "model_module": "@jupyter-widgets/base",
          "model_module_version": "1.2.0",
          "model_name": "LayoutModel",
          "state": {
            "_model_module": "@jupyter-widgets/base",
            "_model_module_version": "1.2.0",
            "_model_name": "LayoutModel",
            "_view_count": null,
            "_view_module": "@jupyter-widgets/base",
            "_view_module_version": "1.2.0",
            "_view_name": "LayoutView",
            "align_content": null,
            "align_items": null,
            "align_self": null,
            "border": null,
            "bottom": null,
            "display": null,
            "flex": null,
            "flex_flow": null,
            "grid_area": null,
            "grid_auto_columns": null,
            "grid_auto_flow": null,
            "grid_auto_rows": null,
            "grid_column": null,
            "grid_gap": null,
            "grid_row": null,
            "grid_template_areas": null,
            "grid_template_columns": null,
            "grid_template_rows": null,
            "height": null,
            "justify_content": null,
            "justify_items": null,
            "left": null,
            "margin": null,
            "max_height": null,
            "max_width": null,
            "min_height": null,
            "min_width": null,
            "object_fit": null,
            "object_position": null,
            "order": null,
            "overflow": null,
            "overflow_x": null,
            "overflow_y": null,
            "padding": null,
            "right": null,
            "top": null,
            "visibility": null,
            "width": null
          }
        },
        "f24911c7ca074058a8a86a84743d02cd": {
          "model_module": "@jupyter-widgets/controls",
          "model_module_version": "1.5.0",
          "model_name": "DescriptionStyleModel",
          "state": {
            "_model_module": "@jupyter-widgets/controls",
            "_model_module_version": "1.5.0",
            "_model_name": "DescriptionStyleModel",
            "_view_count": null,
            "_view_module": "@jupyter-widgets/base",
            "_view_module_version": "1.2.0",
            "_view_name": "StyleView",
            "description_width": ""
          }
        },
        "fef5ed9a56f34e7f8a90e233523db720": {
          "model_module": "@jupyter-widgets/controls",
          "model_module_version": "1.5.0",
          "model_name": "HTMLModel",
          "state": {
            "_dom_classes": [],
            "_model_module": "@jupyter-widgets/controls",
            "_model_module_version": "1.5.0",
            "_model_name": "HTMLModel",
            "_view_count": null,
            "_view_module": "@jupyter-widgets/controls",
            "_view_module_version": "1.5.0",
            "_view_name": "HTMLView",
            "description": "",
            "description_tooltip": null,
            "layout": "IPY_MODEL_3d090727ccac428e9e5400d4299b53d6",
            "placeholder": "​",
            "style": "IPY_MODEL_9305590bd50c4b65b2fe0d188f980839",
            "value": "100%"
          }
        }
      }
    }
  },
  "nbformat": 4,
  "nbformat_minor": 0
}
